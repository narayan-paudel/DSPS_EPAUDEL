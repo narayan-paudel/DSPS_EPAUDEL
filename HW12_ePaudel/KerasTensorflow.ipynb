{
  "nbformat": 4,
  "nbformat_minor": 0,
  "metadata": {
    "colab": {
      "name": "KerasTensorflow.ipynb",
      "provenance": [],
      "collapsed_sections": []
    },
    "kernelspec": {
      "name": "python3",
      "display_name": "Python 3"
    }
  },
  "cells": [
    {
      "cell_type": "markdown",
      "metadata": {
        "id": "view-in-github",
        "colab_type": "text"
      },
      "source": [
        "<a href=\"https://colab.research.google.com/github/fedhere/DSPS/blob/master/HW12/KerasTensorflow.ipynb\" target=\"_parent\"><img src=\"https://colab.research.google.com/assets/colab-badge.svg\" alt=\"Open In Colab\"/></a>"
      ]
    },
    {
      "cell_type": "code",
      "metadata": {
        "id": "QNLkP4Rusfba",
        "colab_type": "code",
        "colab": {}
      },
      "source": [
        "import tensorflow as tf"
      ],
      "execution_count": 0,
      "outputs": []
    },
    {
      "cell_type": "code",
      "metadata": {
        "id": "wIhsN_yinZdv",
        "colab_type": "code",
        "colab": {}
      },
      "source": [
        "from tensorflow import keras\n",
        "import pylab as pl\n",
        "import numpy as np\n",
        "np.random.seed(123)"
      ],
      "execution_count": 0,
      "outputs": []
    },
    {
      "cell_type": "markdown",
      "metadata": {
        "id": "2JOcJIRf9t-s",
        "colab_type": "text"
      },
      "source": [
        "# 1 Getting the data: standard handwritten digit recognition task"
      ]
    },
    {
      "cell_type": "code",
      "metadata": {
        "id": "lN5a2wjjnb0q",
        "colab_type": "code",
        "colab": {}
      },
      "source": [
        "(train_input, train_labels), (test_input, test_labels) = keras.datasets.mnist.load_data()"
      ],
      "execution_count": 0,
      "outputs": []
    },
    {
      "cell_type": "markdown",
      "metadata": {
        "id": "z3S03Rda91vM",
        "colab_type": "text"
      },
      "source": [
        "# 2 understand the input data\n",
        "\n",
        "# task 1: print the shape of the train input and train labels\n",
        "\n",
        "# task 2: print the label of the 10th observation\n",
        "\n",
        "# task 3: what is the shape of train_input 1?\n",
        "\n",
        "# task 4: plot train_inpu 1\n"
      ]
    },
    {
      "cell_type": "code",
      "metadata": {
        "id": "KL8xbiQtmwsF",
        "colab_type": "code",
        "colab": {
          "base_uri": "https://localhost:8080/",
          "height": 53
        },
        "outputId": "2b06cc66-4f22-40bc-9e4c-3da8587f601d"
      },
      "source": [
        "print(\"The shape of the train input is {}\".format(train_input.shape))\n",
        "print(\"The shape of the train labels is {}\".format(train_labels.shape))"
      ],
      "execution_count": 71,
      "outputs": [
        {
          "output_type": "stream",
          "text": [
            "The shape of the train input is (60000, 28, 28)\n",
            "The shape of the train labels is (60000,)\n"
          ],
          "name": "stdout"
        }
      ]
    },
    {
      "cell_type": "code",
      "metadata": {
        "id": "S4yBvkDHmwfP",
        "colab_type": "code",
        "colab": {
          "base_uri": "https://localhost:8080/",
          "height": 35
        },
        "outputId": "bf546cac-e5eb-49f7-aa2f-d770490420ff"
      },
      "source": [
        "print(\"The label of 10th observation is {}.\".format(train_labels[9]))"
      ],
      "execution_count": 72,
      "outputs": [
        {
          "output_type": "stream",
          "text": [
            "The label of 10th observation is 4.\n"
          ],
          "name": "stdout"
        }
      ]
    },
    {
      "cell_type": "code",
      "metadata": {
        "id": "VEQlx4seqnR3",
        "colab_type": "code",
        "colab": {
          "base_uri": "https://localhost:8080/",
          "height": 35
        },
        "outputId": "9a062a42-c0b2-4344-9c77-43cc01f56bda"
      },
      "source": [
        "print(\"The shape of input train 1 is {}.\".format(train_input[0].shape))"
      ],
      "execution_count": 73,
      "outputs": [
        {
          "output_type": "stream",
          "text": [
            "The shape of input train 1 is (28, 28).\n"
          ],
          "name": "stdout"
        }
      ]
    },
    {
      "cell_type": "code",
      "metadata": {
        "id": "txfK7dMGrAmA",
        "colab_type": "code",
        "colab": {
          "base_uri": "https://localhost:8080/",
          "height": 265
        },
        "outputId": "0b2772f2-46f2-440f-f5ec-741f2a333d8b"
      },
      "source": [
        "#Plot of train input 1 \n",
        "pl.imshow(train_input[0]);"
      ],
      "execution_count": 74,
      "outputs": [
        {
          "output_type": "display_data",
          "data": {
            "image/png": "[encoded data removed]",
            "text/plain": [
              "<Figure size 432x288 with 1 Axes>"
            ]
          },
          "metadata": {
            "tags": []
          }
        }
      ]
    },
    {
      "cell_type": "markdown",
      "metadata": {
        "id": "q2KdbkYmrpM6",
        "colab_type": "text"
      },
      "source": [
        "### Figure 1: Plot of train input 1"
      ]
    },
    {
      "cell_type": "markdown",
      "metadata": {
        "id": "lUKQ0gxv-RyV",
        "colab_type": "text"
      },
      "source": [
        "# 3 Create the model\n",
        "\n",
        "# task 5: create a model with 3 layers: input layer and 2 fully connected layers with 128 and 10 neurons respectively"
      ]
    },
    {
      "cell_type": "code",
      "metadata": {
        "id": "ITJjhzU8xXAY",
        "colab_type": "code",
        "colab": {}
      },
      "source": [
        "Nhl = 128\n",
        "Nhl2 = 10\n",
        "model = keras.Sequential([keras.layers.Flatten(input_shape=(28,28)),\n",
        "                         keras.layers.Dense(Nhl, activation=tf.nn.sigmoid), \n",
        "                          keras.layers.Dense(Nhl2,activation=tf.nn.softmax) ])"
      ],
      "execution_count": 0,
      "outputs": []
    },
    {
      "cell_type": "markdown",
      "metadata": {
        "id": "kqhAMKMpohZy",
        "colab_type": "text"
      },
      "source": [
        "# 4 set the hyperparameters\n",
        "# task 6: set a learning rate of 0.01, a loss function \"sparse_categorical_crossentropy\" and set the metric to \"accuracy\n",
        "                                              "
      ]
    },
    {
      "cell_type": "code",
      "metadata": {
        "id": "RFbYq0rex3Tl",
        "colab_type": "code",
        "colab": {}
      },
      "source": [
        "sgd = keras.optimizers.SGD(lr=0.01)\n",
        "model.compile(optimizer=sgd, loss=keras.losses.sparse_categorical_crossentropy, metrics=['accuracy'])"
      ],
      "execution_count": 0,
      "outputs": []
    },
    {
      "cell_type": "code",
      "metadata": {
        "id": "DgQYW5bap06u",
        "colab_type": "code",
        "outputId": "66a4486a-9abe-465e-cecf-14e9c2500f52",
        "colab": {
          "base_uri": "https://localhost:8080/",
          "height": 233
        }
      },
      "source": [
        "model.fit(train_input, train_labels, epochs=5)"
      ],
      "execution_count": 9,
      "outputs": [
        {
          "output_type": "stream",
          "text": [
            "Train on 60000 samples\n",
            "Epoch 1/5\n",
            "60000/60000 [==============================] - 4s 70us/sample - loss: 0.6414 - acc: 0.8369\n",
            "Epoch 2/5\n",
            "60000/60000 [==============================] - 4s 69us/sample - loss: 0.3591 - acc: 0.9037\n",
            "Epoch 3/5\n",
            "60000/60000 [==============================] - 4s 68us/sample - loss: 0.3086 - acc: 0.9146\n",
            "Epoch 4/5\n",
            "60000/60000 [==============================] - 4s 67us/sample - loss: 0.2792 - acc: 0.9232\n",
            "Epoch 5/5\n",
            "60000/60000 [==============================] - 4s 67us/sample - loss: 0.2587 - acc: 0.9269\n"
          ],
          "name": "stdout"
        },
        {
          "output_type": "execute_result",
          "data": {
            "text/plain": [
              "<tensorflow.python.keras.callbacks.History at 0x7f63f3714c88>"
            ]
          },
          "metadata": {
            "tags": []
          },
          "execution_count": 9
        }
      ]
    },
    {
      "cell_type": "markdown",
      "metadata": {
        "id": "cm-dUAzQ_Lq3",
        "colab_type": "text"
      },
      "source": [
        "# Task 7: test the model"
      ]
    },
    {
      "cell_type": "code",
      "metadata": {
        "id": "GWHAqLG7CRwa",
        "colab_type": "code",
        "colab": {
          "base_uri": "https://localhost:8080/",
          "height": 35
        },
        "outputId": "7354b390-192d-4511-94f1-0b1156e9b11c"
      },
      "source": [
        "test_loss, test_acc = model.evaluate(test_input, test_labels)"
      ],
      "execution_count": 10,
      "outputs": [
        {
          "output_type": "stream",
          "text": [
            "10000/10000 [==============================] - 0s 35us/sample - loss: 0.2473 - acc: 0.9310\n"
          ],
          "name": "stdout"
        }
      ]
    },
    {
      "cell_type": "markdown",
      "metadata": {
        "id": "9UON3iNWGT29",
        "colab_type": "text"
      },
      "source": [
        "The accuracy obtained here 0.9303 using the model is similar to the one obtained for train set. The model appears to be good. "
      ]
    },
    {
      "cell_type": "markdown",
      "metadata": {
        "id": "vACTcept_Xx8",
        "colab_type": "text"
      },
      "source": [
        "# task 8 plot the 10'th test observation and its label and prediction"
      ]
    },
    {
      "cell_type": "code",
      "metadata": {
        "id": "vnbH2Lv4HMrZ",
        "colab_type": "code",
        "colab": {
          "base_uri": "https://localhost:8080/",
          "height": 265
        },
        "outputId": "0a6317fb-f009-4898-e05e-de0b5d2600f4"
      },
      "source": [
        "pl.imshow(test_input[9]);"
      ],
      "execution_count": 11,
      "outputs": [
        {
          "output_type": "display_data",
          "data": {
            "image/png": "[encoded data removed]",
            "text/plain": [
              "<Figure size 432x288 with 1 Axes>"
            ]
          },
          "metadata": {
            "tags": []
          }
        }
      ]
    },
    {
      "cell_type": "markdown",
      "metadata": {
        "id": "Lh-pEGi7Mfj3",
        "colab_type": "text"
      },
      "source": [
        "### Figure 2: Plot of tenth test observation."
      ]
    },
    {
      "cell_type": "code",
      "metadata": {
        "id": "R8gUnQaGARqW",
        "colab_type": "code",
        "colab": {}
      },
      "source": [
        "pred = model.predict(test_input)\n",
        "pred = np.argmax(model.predict(test_input), axis = 1)\n"
      ],
      "execution_count": 0,
      "outputs": []
    },
    {
      "cell_type": "code",
      "metadata": {
        "id": "63dLX6fqIEFy",
        "colab_type": "code",
        "colab": {
          "base_uri": "https://localhost:8080/",
          "height": 35
        },
        "outputId": "9b7a9596-92e8-48ce-d6c9-bb81c656de70"
      },
      "source": [
        "test_labels[9], pred[9]"
      ],
      "execution_count": 13,
      "outputs": [
        {
          "output_type": "execute_result",
          "data": {
            "text/plain": [
              "(9, 9)"
            ]
          },
          "metadata": {
            "tags": []
          },
          "execution_count": 13
        }
      ]
    },
    {
      "cell_type": "markdown",
      "metadata": {
        "id": "Gkk5Bfk1INLs",
        "colab_type": "text"
      },
      "source": [
        "Its prediction matches with prediction."
      ]
    },
    {
      "cell_type": "markdown",
      "metadata": {
        "id": "2mzWVo9yJhY9",
        "colab_type": "text"
      },
      "source": [
        "# task 9: find the first wrong prediction in the test set"
      ]
    },
    {
      "cell_type": "code",
      "metadata": {
        "id": "cruV1n7CJaBI",
        "colab_type": "code",
        "colab": {
          "base_uri": "https://localhost:8080/",
          "height": 1000
        },
        "outputId": "934c352d-a8eb-4e0d-d0ca-b16b17f3255e"
      },
      "source": [
        "for i in range(len(test_labels)):\n",
        "    if test_labels[i] != pred[i]:\n",
        "        print(i)"
      ],
      "execution_count": 14,
      "outputs": [
        {
          "output_type": "stream",
          "text": [
            "8\n",
            "33\n",
            "63\n",
            "77\n",
            "92\n",
            "124\n",
            "149\n",
            "185\n",
            "193\n",
            "217\n",
            "233\n",
            "241\n",
            "259\n",
            "282\n",
            "290\n",
            "313\n",
            "320\n",
            "321\n",
            "340\n",
            "341\n",
            "352\n",
            "362\n",
            "381\n",
            "403\n",
            "412\n",
            "444\n",
            "445\n",
            "448\n",
            "457\n",
            "478\n",
            "479\n",
            "507\n",
            "508\n",
            "511\n",
            "528\n",
            "531\n",
            "551\n",
            "553\n",
            "565\n",
            "571\n",
            "578\n",
            "582\n",
            "591\n",
            "605\n",
            "613\n",
            "619\n",
            "624\n",
            "628\n",
            "629\n",
            "659\n",
            "691\n",
            "707\n",
            "717\n",
            "720\n",
            "740\n",
            "741\n",
            "760\n",
            "791\n",
            "839\n",
            "844\n",
            "881\n",
            "882\n",
            "898\n",
            "900\n",
            "924\n",
            "939\n",
            "944\n",
            "947\n",
            "950\n",
            "956\n",
            "959\n",
            "965\n",
            "975\n",
            "982\n",
            "1003\n",
            "1014\n",
            "1039\n",
            "1044\n",
            "1050\n",
            "1062\n",
            "1068\n",
            "1082\n",
            "1107\n",
            "1112\n",
            "1114\n",
            "1119\n",
            "1125\n",
            "1147\n",
            "1153\n",
            "1173\n",
            "1181\n",
            "1191\n",
            "1192\n",
            "1194\n",
            "1198\n",
            "1204\n",
            "1206\n",
            "1208\n",
            "1224\n",
            "1226\n",
            "1228\n",
            "1232\n",
            "1242\n",
            "1247\n",
            "1252\n",
            "1256\n",
            "1260\n",
            "1283\n",
            "1289\n",
            "1299\n",
            "1315\n",
            "1319\n",
            "1325\n",
            "1326\n",
            "1328\n",
            "1337\n",
            "1378\n",
            "1391\n",
            "1393\n",
            "1404\n",
            "1410\n",
            "1429\n",
            "1433\n",
            "1440\n",
            "1444\n",
            "1453\n",
            "1463\n",
            "1464\n",
            "1466\n",
            "1500\n",
            "1522\n",
            "1525\n",
            "1527\n",
            "1530\n",
            "1549\n",
            "1553\n",
            "1559\n",
            "1569\n",
            "1581\n",
            "1587\n",
            "1601\n",
            "1609\n",
            "1611\n",
            "1621\n",
            "1626\n",
            "1634\n",
            "1640\n",
            "1641\n",
            "1678\n",
            "1681\n",
            "1709\n",
            "1717\n",
            "1718\n",
            "1722\n",
            "1751\n",
            "1754\n",
            "1759\n",
            "1790\n",
            "1800\n",
            "1828\n",
            "1850\n",
            "1857\n",
            "1868\n",
            "1878\n",
            "1883\n",
            "1901\n",
            "1930\n",
            "1938\n",
            "1940\n",
            "1941\n",
            "1952\n",
            "1955\n",
            "1968\n",
            "1970\n",
            "1981\n",
            "1984\n",
            "2001\n",
            "2016\n",
            "2024\n",
            "2035\n",
            "2043\n",
            "2044\n",
            "2052\n",
            "2053\n",
            "2068\n",
            "2070\n",
            "2093\n",
            "2098\n",
            "2109\n",
            "2110\n",
            "2118\n",
            "2129\n",
            "2130\n",
            "2135\n",
            "2148\n",
            "2182\n",
            "2185\n",
            "2186\n",
            "2188\n",
            "2189\n",
            "2192\n",
            "2200\n",
            "2224\n",
            "2237\n",
            "2266\n",
            "2272\n",
            "2293\n",
            "2299\n",
            "2325\n",
            "2369\n",
            "2371\n",
            "2380\n",
            "2381\n",
            "2387\n",
            "2393\n",
            "2394\n",
            "2395\n",
            "2406\n",
            "2414\n",
            "2422\n",
            "2425\n",
            "2462\n",
            "2473\n",
            "2488\n",
            "2514\n",
            "2515\n",
            "2545\n",
            "2556\n",
            "2559\n",
            "2560\n",
            "2574\n",
            "2589\n",
            "2598\n",
            "2604\n",
            "2607\n",
            "2610\n",
            "2628\n",
            "2648\n",
            "2654\n",
            "2695\n",
            "2713\n",
            "2720\n",
            "2758\n",
            "2760\n",
            "2770\n",
            "2780\n",
            "2810\n",
            "2832\n",
            "2850\n",
            "2863\n",
            "2896\n",
            "2905\n",
            "2907\n",
            "2919\n",
            "2921\n",
            "2925\n",
            "2927\n",
            "2930\n",
            "2945\n",
            "2953\n",
            "2961\n",
            "2979\n",
            "2995\n",
            "3005\n",
            "3060\n",
            "3066\n",
            "3073\n",
            "3102\n",
            "3108\n",
            "3117\n",
            "3132\n",
            "3136\n",
            "3145\n",
            "3157\n",
            "3160\n",
            "3176\n",
            "3186\n",
            "3189\n",
            "3193\n",
            "3206\n",
            "3225\n",
            "3240\n",
            "3269\n",
            "3280\n",
            "3289\n",
            "3316\n",
            "3330\n",
            "3333\n",
            "3369\n",
            "3437\n",
            "3450\n",
            "3468\n",
            "3490\n",
            "3503\n",
            "3520\n",
            "3525\n",
            "3533\n",
            "3549\n",
            "3558\n",
            "3567\n",
            "3573\n",
            "3597\n",
            "3598\n",
            "3604\n",
            "3629\n",
            "3645\n",
            "3662\n",
            "3664\n",
            "3665\n",
            "3681\n",
            "3688\n",
            "3716\n",
            "3718\n",
            "3726\n",
            "3727\n",
            "3749\n",
            "3757\n",
            "3767\n",
            "3769\n",
            "3776\n",
            "3778\n",
            "3780\n",
            "3796\n",
            "3801\n",
            "3806\n",
            "3808\n",
            "3811\n",
            "3817\n",
            "3820\n",
            "3821\n",
            "3832\n",
            "3833\n",
            "3838\n",
            "3846\n",
            "3848\n",
            "3853\n",
            "3855\n",
            "3862\n",
            "3869\n",
            "3893\n",
            "3902\n",
            "3906\n",
            "3926\n",
            "3941\n",
            "3943\n",
            "3946\n",
            "3951\n",
            "3954\n",
            "3962\n",
            "3970\n",
            "3976\n",
            "3984\n",
            "3985\n",
            "4000\n",
            "4013\n",
            "4063\n",
            "4065\n",
            "4072\n",
            "4075\n",
            "4076\n",
            "4078\n",
            "4093\n",
            "4102\n",
            "4131\n",
            "4139\n",
            "4140\n",
            "4152\n",
            "4154\n",
            "4163\n",
            "4173\n",
            "4176\n",
            "4199\n",
            "4201\n",
            "4211\n",
            "4212\n",
            "4224\n",
            "4228\n",
            "4238\n",
            "4248\n",
            "4255\n",
            "4256\n",
            "4271\n",
            "4272\n",
            "4284\n",
            "4289\n",
            "4300\n",
            "4306\n",
            "4313\n",
            "4315\n",
            "4317\n",
            "4341\n",
            "4344\n",
            "4355\n",
            "4356\n",
            "4359\n",
            "4369\n",
            "4373\n",
            "4374\n",
            "4380\n",
            "4425\n",
            "4427\n",
            "4433\n",
            "4435\n",
            "4451\n",
            "4477\n",
            "4497\n",
            "4498\n",
            "4500\n",
            "4523\n",
            "4540\n",
            "4571\n",
            "4575\n",
            "4578\n",
            "4601\n",
            "4615\n",
            "4620\n",
            "4639\n",
            "4662\n",
            "4690\n",
            "4724\n",
            "4735\n",
            "4751\n",
            "4755\n",
            "4785\n",
            "4807\n",
            "4808\n",
            "4814\n",
            "4823\n",
            "4827\n",
            "4837\n",
            "4838\n",
            "4863\n",
            "4874\n",
            "4876\n",
            "4880\n",
            "4886\n",
            "4890\n",
            "4915\n",
            "4939\n",
            "4950\n",
            "4952\n",
            "4956\n",
            "4966\n",
            "4968\n",
            "4990\n",
            "5001\n",
            "5009\n",
            "5015\n",
            "5038\n",
            "5046\n",
            "5054\n",
            "5065\n",
            "5067\n",
            "5078\n",
            "5140\n",
            "5143\n",
            "5165\n",
            "5176\n",
            "5201\n",
            "5210\n",
            "5246\n",
            "5268\n",
            "5288\n",
            "5298\n",
            "5331\n",
            "5401\n",
            "5409\n",
            "5457\n",
            "5593\n",
            "5600\n",
            "5620\n",
            "5634\n",
            "5642\n",
            "5673\n",
            "5677\n",
            "5695\n",
            "5714\n",
            "5718\n",
            "5734\n",
            "5749\n",
            "5757\n",
            "5842\n",
            "5852\n",
            "5867\n",
            "5874\n",
            "5887\n",
            "5888\n",
            "5891\n",
            "5913\n",
            "5922\n",
            "5937\n",
            "5955\n",
            "5964\n",
            "5972\n",
            "5973\n",
            "5982\n",
            "5985\n",
            "5988\n",
            "5992\n",
            "5997\n",
            "6002\n",
            "6035\n",
            "6043\n",
            "6053\n",
            "6059\n",
            "6065\n",
            "6071\n",
            "6081\n",
            "6091\n",
            "6157\n",
            "6160\n",
            "6166\n",
            "6168\n",
            "6172\n",
            "6173\n",
            "6304\n",
            "6324\n",
            "6347\n",
            "6370\n",
            "6385\n",
            "6391\n",
            "6400\n",
            "6421\n",
            "6425\n",
            "6426\n",
            "6505\n",
            "6511\n",
            "6517\n",
            "6555\n",
            "6558\n",
            "6568\n",
            "6571\n",
            "6574\n",
            "6597\n",
            "6598\n",
            "6603\n",
            "6608\n",
            "6613\n",
            "6621\n",
            "6625\n",
            "6641\n",
            "6651\n",
            "6691\n",
            "6706\n",
            "6721\n",
            "6725\n",
            "6740\n",
            "6744\n",
            "6746\n",
            "6765\n",
            "6768\n",
            "6769\n",
            "6775\n",
            "6785\n",
            "6847\n",
            "6906\n",
            "6914\n",
            "6919\n",
            "6926\n",
            "6945\n",
            "6981\n",
            "7049\n",
            "7117\n",
            "7130\n",
            "7153\n",
            "7220\n",
            "7233\n",
            "7394\n",
            "7432\n",
            "7434\n",
            "7451\n",
            "7459\n",
            "7487\n",
            "7492\n",
            "7498\n",
            "7539\n",
            "7580\n",
            "7637\n",
            "7718\n",
            "7724\n",
            "7779\n",
            "7786\n",
            "7797\n",
            "7800\n",
            "7821\n",
            "7849\n",
            "7858\n",
            "7870\n",
            "7886\n",
            "7888\n",
            "7899\n",
            "7917\n",
            "7921\n",
            "7928\n",
            "7945\n",
            "7999\n",
            "8020\n",
            "8062\n",
            "8091\n",
            "8094\n",
            "8165\n",
            "8183\n",
            "8196\n",
            "8246\n",
            "8272\n",
            "8277\n",
            "8279\n",
            "8294\n",
            "8332\n",
            "8339\n",
            "8372\n",
            "8405\n",
            "8406\n",
            "8408\n",
            "8410\n",
            "8457\n",
            "8520\n",
            "8522\n",
            "9007\n",
            "9009\n",
            "9010\n",
            "9015\n",
            "9016\n",
            "9019\n",
            "9024\n",
            "9026\n",
            "9036\n",
            "9044\n",
            "9045\n",
            "9168\n",
            "9182\n",
            "9209\n",
            "9211\n",
            "9214\n",
            "9317\n",
            "9426\n",
            "9427\n",
            "9465\n",
            "9482\n",
            "9544\n",
            "9564\n",
            "9587\n",
            "9595\n",
            "9614\n",
            "9624\n",
            "9634\n",
            "9642\n",
            "9643\n",
            "9662\n",
            "9664\n",
            "9679\n",
            "9698\n",
            "9716\n",
            "9719\n",
            "9726\n",
            "9729\n",
            "9733\n",
            "9741\n",
            "9744\n",
            "9745\n",
            "9749\n",
            "9752\n",
            "9768\n",
            "9770\n",
            "9777\n",
            "9779\n",
            "9780\n",
            "9792\n",
            "9808\n",
            "9811\n",
            "9839\n",
            "9840\n",
            "9856\n",
            "9858\n",
            "9867\n",
            "9879\n",
            "9890\n",
            "9892\n",
            "9893\n",
            "9901\n",
            "9905\n",
            "9925\n",
            "9941\n",
            "9943\n",
            "9944\n",
            "9970\n",
            "9975\n",
            "9980\n",
            "9982\n",
            "9986\n"
          ],
          "name": "stdout"
        }
      ]
    },
    {
      "cell_type": "code",
      "metadata": {
        "id": "dggvIbzWKH8l",
        "colab_type": "code",
        "colab": {
          "base_uri": "https://localhost:8080/",
          "height": 35
        },
        "outputId": "86720496-dfbc-4c18-fdf8-175ba9aa0d1a"
      },
      "source": [
        "test_labels[8], pred[8]"
      ],
      "execution_count": 15,
      "outputs": [
        {
          "output_type": "execute_result",
          "data": {
            "text/plain": [
              "(5, 6)"
            ]
          },
          "metadata": {
            "tags": []
          },
          "execution_count": 15
        }
      ]
    },
    {
      "cell_type": "code",
      "metadata": {
        "id": "Al724U0zKLr1",
        "colab_type": "code",
        "colab": {
          "base_uri": "https://localhost:8080/",
          "height": 283
        },
        "outputId": "708217a9-19b8-45ff-bb2f-958d6d8bfbb1"
      },
      "source": [
        "pl.imshow(test_input[8])"
      ],
      "execution_count": 16,
      "outputs": [
        {
          "output_type": "execute_result",
          "data": {
            "text/plain": [
              "<matplotlib.image.AxesImage at 0x7f63eaa9cf98>"
            ]
          },
          "metadata": {
            "tags": []
          },
          "execution_count": 16
        },
        {
          "output_type": "display_data",
          "data": {
            "image/png": "[encoded data removed]",
            "text/plain": [
              "<Figure size 432x288 with 1 Axes>"
            ]
          },
          "metadata": {
            "tags": []
          }
        }
      ]
    },
    {
      "cell_type": "markdown",
      "metadata": {
        "id": "xz8LcIycMp9S",
        "colab_type": "text"
      },
      "source": [
        "### Figure 3: Plot of first wrongly predicted test observation."
      ]
    },
    {
      "cell_type": "markdown",
      "metadata": {
        "id": "6JiqiiqQKcUa",
        "colab_type": "text"
      },
      "source": [
        "###The first wrong prediction in test set occurs at index 8. 5 was wrongly predicted as 6."
      ]
    },
    {
      "cell_type": "markdown",
      "metadata": {
        "id": "70vRSuntyBRS",
        "colab_type": "text"
      },
      "source": [
        "task 10: create a more complex model by adding 3 fully connected layers (you choose the size). Retrain and test the accuracy of prediction and discuss if the model is overfitting"
      ]
    },
    {
      "cell_type": "code",
      "metadata": {
        "id": "-SUUN-6dyA0y",
        "colab_type": "code",
        "colab": {}
      },
      "source": [
        "Nhl = 128\n",
        "Nhl2 = 100\n",
        "Nhl3 = 70\n",
        "Nhl4 = 40\n",
        "Nhl5 = 10\n",
        "complex_model = keras.Sequential([keras.layers.Flatten(input_shape=(28,28)),\n",
        "                         keras.layers.Dense(Nhl, activation=tf.nn.sigmoid),\n",
        "                          keras.layers.Dense(Nhl2, activation=tf.nn.sigmoid),\n",
        "                          keras.layers.Dense(Nhl3, activation=tf.nn.sigmoid),\n",
        "                          keras.layers.Dense(Nhl4, activation=tf.nn.sigmoid),\n",
        "                          keras.layers.Dense(Nhl5,activation=tf.nn.softmax) ])"
      ],
      "execution_count": 0,
      "outputs": []
    },
    {
      "cell_type": "code",
      "metadata": {
        "id": "tJrw4TJIK_at",
        "colab_type": "code",
        "colab": {}
      },
      "source": [
        "complex_model.compile(optimizer = keras.optimizers.SGD(lr=0.1),\n",
        "    loss = keras.losses.sparse_categorical_crossentropy,\n",
        "    metrics = ['accuracy'])"
      ],
      "execution_count": 0,
      "outputs": []
    },
    {
      "cell_type": "code",
      "metadata": {
        "id": "Us3n2idYLCKd",
        "colab_type": "code",
        "colab": {
          "base_uri": "https://localhost:8080/",
          "height": 233
        },
        "outputId": "f400100e-5a29-4401-e6ba-7a943acd03c3"
      },
      "source": [
        "complex_model.fit(train_input, train_labels, epochs=5)"
      ],
      "execution_count": 19,
      "outputs": [
        {
          "output_type": "stream",
          "text": [
            "Train on 60000 samples\n",
            "Epoch 1/5\n",
            "60000/60000 [==============================] - 5s 82us/sample - loss: 1.6282 - acc: 0.4335\n",
            "Epoch 2/5\n",
            "60000/60000 [==============================] - 5s 81us/sample - loss: 1.1668 - acc: 0.5905\n",
            "Epoch 3/5\n",
            "60000/60000 [==============================] - 5s 79us/sample - loss: 1.0697 - acc: 0.6196\n",
            "Epoch 4/5\n",
            "60000/60000 [==============================] - 5s 77us/sample - loss: 0.9522 - acc: 0.6745\n",
            "Epoch 5/5\n",
            "60000/60000 [==============================] - 5s 77us/sample - loss: 0.9105 - acc: 0.6917\n"
          ],
          "name": "stdout"
        },
        {
          "output_type": "execute_result",
          "data": {
            "text/plain": [
              "<tensorflow.python.keras.callbacks.History at 0x7f63e9a49438>"
            ]
          },
          "metadata": {
            "tags": []
          },
          "execution_count": 19
        }
      ]
    },
    {
      "cell_type": "code",
      "metadata": {
        "id": "wdTB73iULFo1",
        "colab_type": "code",
        "colab": {
          "base_uri": "https://localhost:8080/",
          "height": 35
        },
        "outputId": "da347cf2-6a03-43f5-9bee-89f1472bad6c"
      },
      "source": [
        "test_loss, test_acc = complex_model.evaluate(test_input, test_labels)"
      ],
      "execution_count": 20,
      "outputs": [
        {
          "output_type": "stream",
          "text": [
            "10000/10000 [==============================] - 0s 41us/sample - loss: 0.9214 - acc: 0.6900\n"
          ],
          "name": "stdout"
        }
      ]
    },
    {
      "cell_type": "markdown",
      "metadata": {
        "id": "WRvDaOEzLUL2",
        "colab_type": "text"
      },
      "source": [
        "The model is not overfitting since the accuracy score on test set is same as training set."
      ]
    }
  ]
}