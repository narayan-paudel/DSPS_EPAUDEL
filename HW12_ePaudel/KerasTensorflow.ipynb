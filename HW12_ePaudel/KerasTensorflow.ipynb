{
  "nbformat": 4,
  "nbformat_minor": 0,
  "metadata": {
    "colab": {
      "name": "lab11_tensorflow",
      "provenance": [],
      "collapsed_sections": [],
      "include_colab_link": true
    },
    "kernelspec": {
      "name": "python3",
      "display_name": "Python 3"
    }
  },
  "cells": [
    {
      "cell_type": "markdown",
      "metadata": {
        "id": "view-in-github",
        "colab_type": "text"
      },
      "source": [
        "<a href=\"https://colab.research.google.com/github/fedhere/DSPS/blob/master/HW12/KerasTensorflow.ipynb\" target=\"_parent\"><img src=\"https://colab.research.google.com/assets/colab-badge.svg\" alt=\"Open In Colab\"/></a>"
      ]
    },
    {
      "cell_type": "code",
      "metadata": {
        "id": "h4wdLvffnWBg",
        "colab_type": "code",
        "colab": {}
      },
      "source": [
        "import tensorflow as tf"
      ],
      "execution_count": 0,
      "outputs": []
    },
    {
      "cell_type": "code",
      "metadata": {
        "id": "wIhsN_yinZdv",
        "colab_type": "code",
        "colab": {}
      },
      "source": [
        "from tensorflow import keras\n",
        "import pylab as pl\n",
        "import numpy as np\n",
        "np.random.seed(123)"
      ],
      "execution_count": 0,
      "outputs": []
    },
    {
      "cell_type": "markdown",
      "metadata": {
        "id": "2JOcJIRf9t-s",
        "colab_type": "text"
      },
      "source": [
        "# 1 Getting the data: standard handwritten digit recognition task"
      ]
    },
    {
      "cell_type": "code",
      "metadata": {
        "id": "lN5a2wjjnb0q",
        "colab_type": "code",
        "outputId": "a102a1c7-4f60-402b-a06b-d78cd3e4b81a",
        "colab": {
          "base_uri": "https://localhost:8080/",
          "height": 62
        }
      },
      "source": [
        "(train_input, train_labels), (test_input, test_labels) = keras.datasets.mnist.load_data()"
      ],
      "execution_count": 0,
      "outputs": [
        {
          "output_type": "stream",
          "text": [
            "Downloading data from https://storage.googleapis.com/tensorflow/tf-keras-datasets/mnist.npz\n",
            "11493376/11490434 [==============================] - 0s 0us/step\n"
          ],
          "name": "stdout"
        }
      ]
    },
    {
      "cell_type": "markdown",
      "metadata": {
        "id": "z3S03Rda91vM",
        "colab_type": "text"
      },
      "source": [
        "# 2 understand the input data\n",
        "\n",
        "# task 1: print the shape of the train input and train labels\n",
        "\n",
        "# task 2: print the label of the 10th observation\n",
        "\n",
        "# task 3: what is the shape of train_input 1?\n",
        "\n",
        "# task 4: plot train_inpu 1\n"
      ]
    },
    {
      "cell_type": "markdown",
      "metadata": {
        "id": "lUKQ0gxv-RyV",
        "colab_type": "text"
      },
      "source": [
        "# 3 Create the model\n",
        "\n",
        "# task 5: create a model with 3 layers: input layer and 2 fully connected layers with 128 and 10 neurons respectively"
      ]
    },
    {
      "cell_type": "code",
      "metadata": {
        "id": "sRvt_FxxJzsS",
        "colab_type": "code",
        "colab": {}
      },
      "source": [
        "\n",
        "model = keras.Sequential([keras.layers.Flatten(input_shape=(INPUT OBSERVATIONS SHAPE)),\n",
        "                         keras.layers.Dense(Nhl, activation=tf.nn.sigmoid), \n",
        "                          keras.layers.Dense(Nhl2,activation=tf.nn.softmax) ])"
      ],
      "execution_count": 0,
      "outputs": []
    },
    {
      "cell_type": "markdown",
      "metadata": {
        "id": "kqhAMKMpohZy",
        "colab_type": "text"
      },
      "source": [
        "# 4 set the hyperparameters\n",
        "# task 6: set a learning rate of 0.01, a loss function \"sparse_categorical_crossentropy\" and set the metric to \"accuracy\n",
        "                                              "
      ]
    },
    {
      "cell_type": "code",
      "metadata": {
        "id": "zPhqtfuyneAl",
        "colab_type": "code",
        "colab": {}
      },
      "source": [
        "model.compile?"
      ],
      "execution_count": 0,
      "outputs": []
    },
    {
      "cell_type": "code",
      "metadata": {
        "id": "DgQYW5bap06u",
        "colab_type": "code",
        "outputId": "f8b32500-3d37-4bfe-eb08-f8c71862a587",
        "colab": {
          "base_uri": "https://localhost:8080/",
          "height": 282
        }
      },
      "source": [
        "model.fit(train_input, train_label, epochs=5)"
      ],
      "execution_count": 0,
      "outputs": [
        {
          "output_type": "stream",
          "text": [
            "Train on 60000 samples\n",
            "Epoch 1/5\n",
            "60000/60000 [==============================] - 4s 64us/sample - loss: 0.6613 - acc: 0.8331\n",
            "Epoch 2/5\n",
            "60000/60000 [==============================] - 4s 61us/sample - loss: 0.3617 - acc: 0.9039\n",
            "Epoch 3/5\n",
            "60000/60000 [==============================] - 4s 62us/sample - loss: 0.3064 - acc: 0.9163\n",
            "Epoch 4/5\n",
            "60000/60000 [==============================] - 4s 62us/sample - loss: 0.2863 - acc: 0.9212\n",
            "Epoch 5/5\n",
            "60000/60000 [==============================] - 4s 61us/sample - loss: 0.2644 - acc: 0.9273\n"
          ],
          "name": "stdout"
        },
        {
          "output_type": "execute_result",
          "data": {
            "text/plain": [
              "<tensorflow.python.keras.callbacks.History at 0x7fbc02544fd0>"
            ]
          },
          "metadata": {
            "tags": []
          },
          "execution_count": 62
        }
      ]
    },
    {
      "cell_type": "markdown",
      "metadata": {
        "id": "cm-dUAzQ_Lq3",
        "colab_type": "text"
      },
      "source": [
        "# Task 7: test the model"
      ]
    },
    {
      "cell_type": "code",
      "metadata": {
        "id": "zxecyD5oqGTj",
        "colab_type": "code",
        "outputId": "6438f8b1-7b94-4d0b-e146-82e1381a7fe0",
        "colab": {
          "base_uri": "https://localhost:8080/",
          "height": 40
        }
      },
      "source": [
        "test_loss, test_acc = model.evaluate(...)"
      ],
      "execution_count": 0,
      "outputs": [
        {
          "output_type": "stream",
          "text": [
            "10000/10000 [==============================] - 0s 35us/sample - loss: 0.2557 - acc: 0.9308\n"
          ],
          "name": "stdout"
        }
      ]
    },
    {
      "cell_type": "markdown",
      "metadata": {
        "id": "vACTcept_Xx8",
        "colab_type": "text"
      },
      "source": [
        "# task 8 plot the 10'th test observation and its label and prediction"
      ]
    },
    {
      "cell_type": "code",
      "metadata": {
        "id": "R8gUnQaGARqW",
        "colab_type": "code",
        "colab": {}
      },
      "source": [
        "pred = model.predict(...)"
      ],
      "execution_count": 0,
      "outputs": []
    },
    {
      "cell_type": "markdown",
      "metadata": {
        "id": "2mzWVo9yJhY9",
        "colab_type": "text"
      },
      "source": [
        "# task 9: find the first wrong prediction in the test set"
      ]
    },
    {
      "cell_type": "code",
      "metadata": {
        "id": "cruV1n7CJaBI",
        "colab_type": "code",
        "colab": {}
      },
      "source": [
        "..."
      ],
      "execution_count": 0,
      "outputs": []
    },
    {
      "cell_type": "markdown",
      "metadata": {
        "id": "70vRSuntyBRS",
        "colab_type": "text"
      },
      "source": [
        "task 10: create a more complex model by adding 3 fully connected layers (you choose the size). Retrain and test the accuracy of prediction and discuss if the model is overfitting"
      ]
    },
    {
      "cell_type": "code",
      "metadata": {
        "id": "-SUUN-6dyA0y",
        "colab_type": "code",
        "colab": {}
      },
      "source": [
        ""
      ],
      "execution_count": 0,
      "outputs": []
    }
  ]
}