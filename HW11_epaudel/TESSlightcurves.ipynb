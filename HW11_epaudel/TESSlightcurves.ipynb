{
  "nbformat": 4,
  "nbformat_minor": 0,
  "metadata": {
    "colab": {
      "name": "TESSlightcurves",
      "provenance": []
    },
    "kernelspec": {
      "name": "python3",
      "display_name": "Python 3"
    }
  },
  "cells": [
    {
      "cell_type": "markdown",
      "metadata": {
        "id": "AHQkmKjxCvx1",
        "colab_type": "text"
      },
      "source": [
        "In this part of the homework, you will download 3 time series that were produced by TESS. The format of the data is given in two columns: Time (BJD = Barycentric Julian Date, or days) and differential magnitude (mmag). Each file containing the time series is formatted as 'IDnumber.rw', and there are no headers or column headings (in other words, they are barebones ASCII files).\n",
        "\n",
        "The three files are available at the following links:\n",
        "\n",
        "https://drive.google.com/open?id=1etymBPHbCCF_sBYhmGkqP0lYpKGtl4O9\n",
        "\n",
        "https://drive.google.com/open?id=1q10RiwR20PpBDsWM6MAJY_L9sfrod_N0\n",
        "\n",
        "https://drive.google.com/open?id=1wQ2zloxuoZ4xfyLLyNSltveOLek4C8-8\n",
        "\n",
        "Start by loading the data and plotting each of these time series (with proper axes and with the ID number shown for each star)."
      ]
    },
    {
      "cell_type": "code",
      "metadata": {
        "id": "MbVUs95xCQVc",
        "colab_type": "code",
        "colab": {}
      },
      "source": [
        "import pandas as pd\n",
        "import numpy as np\n",
        "import matplotlib\n",
        "import matplotlib.pyplot as plt\n",
        "from astropy.stats import LombScargle"
      ],
      "execution_count": 0,
      "outputs": []
    },
    {
      "cell_type": "markdown",
      "metadata": {
        "id": "MxPaNJoNEIAd",
        "colab_type": "text"
      },
      "source": [
        "# **Data ingestion**"
      ]
    },
    {
      "cell_type": "code",
      "metadata": {
        "id": "TZ6ZsRJzEMSR",
        "colab_type": "code",
        "colab": {}
      },
      "source": [
        "..."
      ],
      "execution_count": 0,
      "outputs": []
    },
    {
      "cell_type": "markdown",
      "metadata": {
        "id": "Nrh4O-yeEnV6",
        "colab_type": "text"
      },
      "source": [
        "# **Plotting each time series**"
      ]
    },
    {
      "cell_type": "code",
      "metadata": {
        "id": "-AlyY6WlE1Nq",
        "colab_type": "code",
        "colab": {}
      },
      "source": [
        "..."
      ],
      "execution_count": 0,
      "outputs": []
    },
    {
      "cell_type": "markdown",
      "metadata": {
        "id": "1WNlG2gpE136",
        "colab_type": "text"
      },
      "source": [
        "Now that you have plotted each time series, you can probably make an educated guess as to what type of variability (periodic, cyclical or stochastic) is present in each of them. Add a text cell below to put your best \"guess\" (prediction required for full marks, even if it is wrong or disagrees with answer later in the assignment)."
      ]
    },
    {
      "cell_type": "markdown",
      "metadata": {
        "id": "y_orkganFNzi",
        "colab_type": "text"
      },
      "source": [
        "# **Computing Lomb-Scargle periodograms for each time series**\n",
        "\n",
        "Using the package loaded above (LombScargle), compute the periodogram (either the power spectrum or the amplitude spectrum, as discussed in class) for each time series, and then plot each periodogram, making sure to properly label the axes and to identify each star. Make sure to choose the frequency range wisely.\n",
        "\n",
        "For more documentation on the LombScargle package: https://docs.astropy.org/en/stable/api/astropy.timeseries.LombScargle.html#astropy.timeseries.LombScargle\n",
        "\n",
        "For the normalization, make sure to use \"psd\" so that we can recover units."
      ]
    },
    {
      "cell_type": "code",
      "metadata": {
        "id": "lj9lk9TLFqj8",
        "colab_type": "code",
        "colab": {}
      },
      "source": [
        "..."
      ],
      "execution_count": 0,
      "outputs": []
    },
    {
      "cell_type": "markdown",
      "metadata": {
        "id": "r-DL0PfvFrZC",
        "colab_type": "text"
      },
      "source": [
        "Based on the periodograms you have plotted, add a text box below and indicate what type of variability is exhibited by each of the stars. If one of the stars exhibits *periodic* variations, please also indicate the value of that period."
      ]
    },
    {
      "cell_type": "markdown",
      "metadata": {
        "id": "BYeEpKtVHmMl",
        "colab_type": "text"
      },
      "source": [
        "# **Phase folding**\n",
        "\n",
        "For any star above exhibiting periodic variations, you will phase-fold their time series. This is accomplished by rescaling the exogenous variable, dividing it by the period (keep in mind that period = 1/frequency, and that if you have multiple periods, or harmonics, you should divide by the fundamental period). However, only the fractional part (e.g. np.modf(x)[0]) of the period must be considered (which means that the axis containing the exogenous variable will no longer be monotonically increasing; therefore, make sure to reorder the dataset appropriately).\n",
        "\n",
        "Then, plot the phase-folded light curve(s) and identify them accordingly."
      ]
    },
    {
      "cell_type": "code",
      "metadata": {
        "id": "cqC1e8JIIp_E",
        "colab_type": "code",
        "colab": {}
      },
      "source": [
        "..."
      ],
      "execution_count": 0,
      "outputs": []
    },
    {
      "cell_type": "markdown",
      "metadata": {
        "id": "-GxNivHsI2uK",
        "colab_type": "text"
      },
      "source": [
        "# **Binning**\n",
        "\n",
        "Finally, you will bin the data so that the phased light curve(s) contains 20 bins (from 0 to 1). To do so, you can use the df.resample() method (or any other method you wish), averaging all the points within each bin. Overplot the binned light curve(s) over the original data using a larger symbol size (and perhaps a different color), and connect the binned points with a line. Are 20 bins appropriate? If not, add more bins and explain why."
      ]
    },
    {
      "cell_type": "code",
      "metadata": {
        "id": "Kto8VoZaJSN6",
        "colab_type": "code",
        "colab": {}
      },
      "source": [
        "..."
      ],
      "execution_count": 0,
      "outputs": []
    },
    {
      "cell_type": "markdown",
      "metadata": {
        "id": "ggEuStXqJS2y",
        "colab_type": "text"
      },
      "source": [
        "This concludes the homework assignment!"
      ]
    },
    {
      "cell_type": "markdown",
      "metadata": {
        "id": "1xdy0cQCKFTt",
        "colab_type": "text"
      },
      "source": [
        "**Bonus question**: The resulting phase-folded light curve(s) might not be perfectly overlapping, with certain artefacts. Adding a text cell below, comment on what method could help address that issue, and summarily describe how you would go about applying it."
      ]
    }
  ]
}